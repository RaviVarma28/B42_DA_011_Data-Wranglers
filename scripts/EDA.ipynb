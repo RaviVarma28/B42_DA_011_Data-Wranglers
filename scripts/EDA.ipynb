{
 "cells": [
  {
   "cell_type": "code",
   "execution_count": 1,
   "metadata": {},
   "outputs": [],
   "source": [
    "import pandas as pd\n",
    "from sqlalchemy import create_engine"
   ]
  },
  {
   "cell_type": "code",
   "execution_count": 2,
   "metadata": {},
   "outputs": [
    {
     "data": {
      "text/html": [
       "<div>\n",
       "<style scoped>\n",
       "    .dataframe tbody tr th:only-of-type {\n",
       "        vertical-align: middle;\n",
       "    }\n",
       "\n",
       "    .dataframe tbody tr th {\n",
       "        vertical-align: top;\n",
       "    }\n",
       "\n",
       "    .dataframe thead th {\n",
       "        text-align: right;\n",
       "    }\n",
       "</style>\n",
       "<table border=\"1\" class=\"dataframe\">\n",
       "  <thead>\n",
       "    <tr style=\"text-align: right;\">\n",
       "      <th></th>\n",
       "      <th>COSMIC_ID</th>\n",
       "      <th>CELL_LINE_NAME</th>\n",
       "      <th>TCGA_DESC</th>\n",
       "      <th>DRUG_ID</th>\n",
       "      <th>DRUG_NAME</th>\n",
       "      <th>LN_IC50</th>\n",
       "      <th>AUC</th>\n",
       "      <th>Z_SCORE</th>\n",
       "      <th>GDSC Tissue descriptor 1</th>\n",
       "      <th>GDSC Tissue descriptor 2</th>\n",
       "      <th>Cancer Type (matching TCGA label)</th>\n",
       "      <th>Microsatellite instability Status (MSI)</th>\n",
       "      <th>Screen Medium</th>\n",
       "      <th>Growth Properties</th>\n",
       "      <th>CNA</th>\n",
       "      <th>Gene Expression</th>\n",
       "      <th>Methylation</th>\n",
       "      <th>TARGET</th>\n",
       "      <th>TARGET_PATHWAY</th>\n",
       "    </tr>\n",
       "  </thead>\n",
       "  <tbody>\n",
       "    <tr>\n",
       "      <th>0</th>\n",
       "      <td>683667</td>\n",
       "      <td>PFSK-1</td>\n",
       "      <td>MB</td>\n",
       "      <td>1003</td>\n",
       "      <td>Camptothecin</td>\n",
       "      <td>-1.463887</td>\n",
       "      <td>0.930220</td>\n",
       "      <td>0.433123</td>\n",
       "      <td>nervous_system</td>\n",
       "      <td>medulloblastoma</td>\n",
       "      <td>MB</td>\n",
       "      <td>MSS/MSI-L</td>\n",
       "      <td>R</td>\n",
       "      <td>Adherent</td>\n",
       "      <td>Y</td>\n",
       "      <td>Y</td>\n",
       "      <td>Y</td>\n",
       "      <td>TOP1</td>\n",
       "      <td>DNA replication</td>\n",
       "    </tr>\n",
       "    <tr>\n",
       "      <th>1</th>\n",
       "      <td>684057</td>\n",
       "      <td>ES5</td>\n",
       "      <td>UNCLASSIFIED</td>\n",
       "      <td>1003</td>\n",
       "      <td>Camptothecin</td>\n",
       "      <td>-3.360586</td>\n",
       "      <td>0.791072</td>\n",
       "      <td>-0.599569</td>\n",
       "      <td>bone</td>\n",
       "      <td>ewings_sarcoma</td>\n",
       "      <td>NaN</td>\n",
       "      <td>MSS/MSI-L</td>\n",
       "      <td>R</td>\n",
       "      <td>Adherent</td>\n",
       "      <td>Y</td>\n",
       "      <td>Y</td>\n",
       "      <td>Y</td>\n",
       "      <td>TOP1</td>\n",
       "      <td>DNA replication</td>\n",
       "    </tr>\n",
       "    <tr>\n",
       "      <th>2</th>\n",
       "      <td>684059</td>\n",
       "      <td>ES7</td>\n",
       "      <td>UNCLASSIFIED</td>\n",
       "      <td>1003</td>\n",
       "      <td>Camptothecin</td>\n",
       "      <td>-5.044940</td>\n",
       "      <td>0.592660</td>\n",
       "      <td>-1.516647</td>\n",
       "      <td>bone</td>\n",
       "      <td>ewings_sarcoma</td>\n",
       "      <td>NaN</td>\n",
       "      <td>MSS/MSI-L</td>\n",
       "      <td>R</td>\n",
       "      <td>Adherent</td>\n",
       "      <td>Y</td>\n",
       "      <td>Y</td>\n",
       "      <td>Y</td>\n",
       "      <td>TOP1</td>\n",
       "      <td>DNA replication</td>\n",
       "    </tr>\n",
       "    <tr>\n",
       "      <th>3</th>\n",
       "      <td>684062</td>\n",
       "      <td>EW-11</td>\n",
       "      <td>UNCLASSIFIED</td>\n",
       "      <td>1003</td>\n",
       "      <td>Camptothecin</td>\n",
       "      <td>-3.741991</td>\n",
       "      <td>0.734047</td>\n",
       "      <td>-0.807232</td>\n",
       "      <td>bone</td>\n",
       "      <td>ewings_sarcoma</td>\n",
       "      <td>NaN</td>\n",
       "      <td>MSS/MSI-L</td>\n",
       "      <td>R</td>\n",
       "      <td>Adherent</td>\n",
       "      <td>Y</td>\n",
       "      <td>Y</td>\n",
       "      <td>Y</td>\n",
       "      <td>TOP1</td>\n",
       "      <td>DNA replication</td>\n",
       "    </tr>\n",
       "    <tr>\n",
       "      <th>4</th>\n",
       "      <td>684072</td>\n",
       "      <td>SK-ES-1</td>\n",
       "      <td>UNCLASSIFIED</td>\n",
       "      <td>1003</td>\n",
       "      <td>Camptothecin</td>\n",
       "      <td>-5.142961</td>\n",
       "      <td>0.582439</td>\n",
       "      <td>-1.570016</td>\n",
       "      <td>bone</td>\n",
       "      <td>ewings_sarcoma</td>\n",
       "      <td>NaN</td>\n",
       "      <td>MSS/MSI-L</td>\n",
       "      <td>R</td>\n",
       "      <td>Semi-Adherent</td>\n",
       "      <td>Y</td>\n",
       "      <td>Y</td>\n",
       "      <td>Y</td>\n",
       "      <td>TOP1</td>\n",
       "      <td>DNA replication</td>\n",
       "    </tr>\n",
       "  </tbody>\n",
       "</table>\n",
       "</div>"
      ],
      "text/plain": [
       "   COSMIC_ID CELL_LINE_NAME     TCGA_DESC  DRUG_ID     DRUG_NAME   LN_IC50  \\\n",
       "0     683667         PFSK-1            MB     1003  Camptothecin -1.463887   \n",
       "1     684057            ES5  UNCLASSIFIED     1003  Camptothecin -3.360586   \n",
       "2     684059            ES7  UNCLASSIFIED     1003  Camptothecin -5.044940   \n",
       "3     684062          EW-11  UNCLASSIFIED     1003  Camptothecin -3.741991   \n",
       "4     684072        SK-ES-1  UNCLASSIFIED     1003  Camptothecin -5.142961   \n",
       "\n",
       "        AUC   Z_SCORE GDSC Tissue descriptor 1 GDSC Tissue descriptor 2  \\\n",
       "0  0.930220  0.433123           nervous_system          medulloblastoma   \n",
       "1  0.791072 -0.599569                     bone           ewings_sarcoma   \n",
       "2  0.592660 -1.516647                     bone           ewings_sarcoma   \n",
       "3  0.734047 -0.807232                     bone           ewings_sarcoma   \n",
       "4  0.582439 -1.570016                     bone           ewings_sarcoma   \n",
       "\n",
       "  Cancer Type (matching TCGA label) Microsatellite instability Status (MSI)  \\\n",
       "0                                MB                               MSS/MSI-L   \n",
       "1                               NaN                               MSS/MSI-L   \n",
       "2                               NaN                               MSS/MSI-L   \n",
       "3                               NaN                               MSS/MSI-L   \n",
       "4                               NaN                               MSS/MSI-L   \n",
       "\n",
       "  Screen Medium Growth Properties CNA Gene Expression Methylation TARGET  \\\n",
       "0             R          Adherent   Y               Y           Y   TOP1   \n",
       "1             R          Adherent   Y               Y           Y   TOP1   \n",
       "2             R          Adherent   Y               Y           Y   TOP1   \n",
       "3             R          Adherent   Y               Y           Y   TOP1   \n",
       "4             R     Semi-Adherent   Y               Y           Y   TOP1   \n",
       "\n",
       "    TARGET_PATHWAY  \n",
       "0  DNA replication  \n",
       "1  DNA replication  \n",
       "2  DNA replication  \n",
       "3  DNA replication  \n",
       "4  DNA replication  "
      ]
     },
     "execution_count": 2,
     "metadata": {},
     "output_type": "execute_result"
    }
   ],
   "source": [
    "df = pd.read_csv('../data/raw/GDSC_DATASET.csv')\n",
    "df.head()"
   ]
  },
  {
   "cell_type": "code",
   "execution_count": 14,
   "metadata": {},
   "outputs": [
    {
     "data": {
      "text/plain": [
       "COSMIC_ID                                    int64\n",
       "CELL_LINE_NAME                              object\n",
       "TCGA_DESC                                   object\n",
       "DRUG_ID                                      int64\n",
       "DRUG_NAME                                   object\n",
       "LN_IC50                                    float64\n",
       "AUC                                        float64\n",
       "Z_SCORE                                    float64\n",
       "GDSC Tissue descriptor 1                    object\n",
       "GDSC Tissue descriptor 2                    object\n",
       "Microsatellite instability Status (MSI)     object\n",
       "Screen Medium                               object\n",
       "Growth Properties                           object\n",
       "CNA                                         object\n",
       "Gene Expression                             object\n",
       "Methylation                                 object\n",
       "TARGET                                      object\n",
       "TARGET_PATHWAY                              object\n",
       "dtype: object"
      ]
     },
     "execution_count": 14,
     "metadata": {},
     "output_type": "execute_result"
    }
   ],
   "source": [
    "# Checking the datatypes of the columns in the dataset\n",
    "df.dtypes"
   ]
  },
  {
   "cell_type": "code",
   "execution_count": 4,
   "metadata": {},
   "outputs": [
    {
     "name": "stdout",
     "output_type": "stream",
     "text": [
      "There are 0 duplicate(s) in the Dataset\n"
     ]
    }
   ],
   "source": [
    "# Checking for duplicates in the dataset\n",
    "print(f'There are {df.duplicated().sum()} duplicate(s) in the Dataset')"
   ]
  },
  {
   "cell_type": "code",
   "execution_count": 5,
   "metadata": {},
   "outputs": [
    {
     "data": {
      "text/plain": [
       "COSMIC_ID                                      0\n",
       "CELL_LINE_NAME                                 0\n",
       "TCGA_DESC                                   1067\n",
       "DRUG_ID                                        0\n",
       "DRUG_NAME                                      0\n",
       "LN_IC50                                        0\n",
       "AUC                                            0\n",
       "Z_SCORE                                        0\n",
       "GDSC Tissue descriptor 1                    9366\n",
       "GDSC Tissue descriptor 2                    9366\n",
       "Cancer Type (matching TCGA label)          51446\n",
       "Microsatellite instability Status (MSI)    12353\n",
       "Screen Medium                               9366\n",
       "Growth Properties                           9366\n",
       "CNA                                         9366\n",
       "Gene Expression                             9366\n",
       "Methylation                                 9366\n",
       "TARGET                                     27155\n",
       "TARGET_PATHWAY                                 0\n",
       "dtype: int64"
      ]
     },
     "execution_count": 5,
     "metadata": {},
     "output_type": "execute_result"
    }
   ],
   "source": [
    "# Checking for null values\n",
    "df.isna().sum()"
   ]
  },
  {
   "cell_type": "code",
   "execution_count": 6,
   "metadata": {},
   "outputs": [],
   "source": [
    "# Imputing \"UNCLASSIFIED\" for any blank values in TCGA_DESC\n",
    "df['TCGA_DESC'] = df[\"TCGA_DESC\"].fillna(\"UNCLASSIFIED\")"
   ]
  },
  {
   "cell_type": "code",
   "execution_count": 9,
   "metadata": {},
   "outputs": [],
   "source": [
    "# Dropping the Cancer Type column as it is similar to the TCGA_DESC column\n",
    "df.drop(columns=\"Cancer Type (matching TCGA label)\", inplace=True)"
   ]
  },
  {
   "cell_type": "code",
   "execution_count": 12,
   "metadata": {},
   "outputs": [],
   "source": [
    "# Replacing the null values in the remaining columns with \"UNKNOWN\"\n",
    "columns_with_blanks = ['GDSC Tissue descriptor 1',\n",
    "       'GDSC Tissue descriptor 2', 'Microsatellite instability Status (MSI)',\n",
    "       'Screen Medium', 'Growth Properties', 'CNA', 'Gene Expression',\n",
    "       'Methylation', 'TARGET']\n",
    "\n",
    "for column in columns_with_blanks:\n",
    "    df[column] = df[column].fillna(\"UNKNOWN\")"
   ]
  },
  {
   "cell_type": "code",
   "execution_count": 13,
   "metadata": {},
   "outputs": [
    {
     "data": {
      "text/plain": [
       "COSMIC_ID                                  0\n",
       "CELL_LINE_NAME                             0\n",
       "TCGA_DESC                                  0\n",
       "DRUG_ID                                    0\n",
       "DRUG_NAME                                  0\n",
       "LN_IC50                                    0\n",
       "AUC                                        0\n",
       "Z_SCORE                                    0\n",
       "GDSC Tissue descriptor 1                   0\n",
       "GDSC Tissue descriptor 2                   0\n",
       "Microsatellite instability Status (MSI)    0\n",
       "Screen Medium                              0\n",
       "Growth Properties                          0\n",
       "CNA                                        0\n",
       "Gene Expression                            0\n",
       "Methylation                                0\n",
       "TARGET                                     0\n",
       "TARGET_PATHWAY                             0\n",
       "dtype: int64"
      ]
     },
     "execution_count": 13,
     "metadata": {},
     "output_type": "execute_result"
    }
   ],
   "source": [
    "# Checking for the null values in the dataset again\n",
    "df.isna().sum()"
   ]
  },
  {
   "cell_type": "code",
   "execution_count": 10,
   "metadata": {},
   "outputs": [
    {
     "data": {
      "text/plain": [
       "Index(['COSMIC_ID', 'CELL_LINE_NAME', 'TCGA_DESC', 'DRUG_ID', 'DRUG_NAME',\n",
       "       'LN_IC50', 'AUC', 'Z_SCORE', 'GDSC Tissue descriptor 1',\n",
       "       'GDSC Tissue descriptor 2', 'Microsatellite instability Status (MSI)',\n",
       "       'Screen Medium', 'Growth Properties', 'CNA', 'Gene Expression',\n",
       "       'Methylation', 'TARGET', 'TARGET_PATHWAY'],\n",
       "      dtype='object')"
      ]
     },
     "execution_count": 10,
     "metadata": {},
     "output_type": "execute_result"
    }
   ],
   "source": [
    "df.columns"
   ]
  },
  {
   "cell_type": "code",
   "execution_count": 16,
   "metadata": {},
   "outputs": [],
   "source": [
    "# Exporting the cleaned Dataset\n",
    "df.to_csv(\"cleaned_GDSC.csv\")"
   ]
  },
  {
   "cell_type": "code",
   "execution_count": 23,
   "metadata": {},
   "outputs": [
    {
     "data": {
      "text/html": [
       "<div>\n",
       "<style scoped>\n",
       "    .dataframe tbody tr th:only-of-type {\n",
       "        vertical-align: middle;\n",
       "    }\n",
       "\n",
       "    .dataframe tbody tr th {\n",
       "        vertical-align: top;\n",
       "    }\n",
       "\n",
       "    .dataframe thead th {\n",
       "        text-align: right;\n",
       "    }\n",
       "</style>\n",
       "<table border=\"1\" class=\"dataframe\">\n",
       "  <thead>\n",
       "    <tr style=\"text-align: right;\">\n",
       "      <th></th>\n",
       "      <th>LN_IC50</th>\n",
       "      <th>AUC</th>\n",
       "      <th>Z_SCORE</th>\n",
       "    </tr>\n",
       "  </thead>\n",
       "  <tbody>\n",
       "    <tr>\n",
       "      <th>count</th>\n",
       "      <td>242035.000000</td>\n",
       "      <td>242035.000000</td>\n",
       "      <td>242035.000000</td>\n",
       "    </tr>\n",
       "    <tr>\n",
       "      <th>mean</th>\n",
       "      <td>2.817111</td>\n",
       "      <td>0.882593</td>\n",
       "      <td>0.000006</td>\n",
       "    </tr>\n",
       "    <tr>\n",
       "      <th>std</th>\n",
       "      <td>2.762191</td>\n",
       "      <td>0.146998</td>\n",
       "      <td>0.999390</td>\n",
       "    </tr>\n",
       "    <tr>\n",
       "      <th>min</th>\n",
       "      <td>-8.747724</td>\n",
       "      <td>0.006282</td>\n",
       "      <td>-8.254501</td>\n",
       "    </tr>\n",
       "    <tr>\n",
       "      <th>25%</th>\n",
       "      <td>1.508054</td>\n",
       "      <td>0.849452</td>\n",
       "      <td>-0.656842</td>\n",
       "    </tr>\n",
       "    <tr>\n",
       "      <th>50%</th>\n",
       "      <td>3.236744</td>\n",
       "      <td>0.944197</td>\n",
       "      <td>0.010585</td>\n",
       "    </tr>\n",
       "    <tr>\n",
       "      <th>75%</th>\n",
       "      <td>4.700111</td>\n",
       "      <td>0.974934</td>\n",
       "      <td>0.656036</td>\n",
       "    </tr>\n",
       "    <tr>\n",
       "      <th>max</th>\n",
       "      <td>13.820189</td>\n",
       "      <td>0.998904</td>\n",
       "      <td>7.978776</td>\n",
       "    </tr>\n",
       "  </tbody>\n",
       "</table>\n",
       "</div>"
      ],
      "text/plain": [
       "             LN_IC50            AUC        Z_SCORE\n",
       "count  242035.000000  242035.000000  242035.000000\n",
       "mean        2.817111       0.882593       0.000006\n",
       "std         2.762191       0.146998       0.999390\n",
       "min        -8.747724       0.006282      -8.254501\n",
       "25%         1.508054       0.849452      -0.656842\n",
       "50%         3.236744       0.944197       0.010585\n",
       "75%         4.700111       0.974934       0.656036\n",
       "max        13.820189       0.998904       7.978776"
      ]
     },
     "execution_count": 23,
     "metadata": {},
     "output_type": "execute_result"
    }
   ],
   "source": [
    "# Exploring the dataset \n",
    "# including only float dtype, as they are the important numerical data\n",
    "# and there is no use in getting the mean, median, mode of ID's\n",
    "df.describe(include=['float'])"
   ]
  },
  {
   "cell_type": "code",
   "execution_count": 30,
   "metadata": {},
   "outputs": [
    {
     "name": "stdout",
     "output_type": "stream",
     "text": [
      "Connected to the database successfully.\n",
      "CSV file loaded successfully.\n",
      "Data uploaded successfully.\n"
     ]
    }
   ],
   "source": [
    "# This is the python process to export the dataset from python directly into a SQL Schema \n",
    "# The password is changed later.\n",
    "# The host and port are most likely are going to be the same if the database is in local system and you haven't changed during installation\n",
    "\n",
    "username = 'root'\n",
    "password = \"test\" # If you have '@' in the password, it will raise an error,\n",
    "                  # replace '@' with '%40', it will work. eg., 'test@1234' -> 'test%401234'\n",
    "host = 'localhost:3306'\n",
    "database = 'practice'\n",
    "\n",
    "# Create the connection URL\n",
    "connection_url = f'mysql+pymysql://{username}:{password}@{host}/{database}'\n",
    "\n",
    "try:\n",
    "    # Create an SQLAlchemy engine\n",
    "    engine = create_engine(connection_url)\n",
    "    print(\"Connected to the database successfully.\")\n",
    "\n",
    "    # Create a DataFrame to upload\n",
    "    # The dataset should be in the same folder as the ipynb file\n",
    "    accounts_df = pd.read_csv('cleaned_GDSC.csv')\n",
    "    print(\"CSV file loaded successfully.\")\n",
    "\n",
    "    # Upload the DataFrame to MySQL\n",
    "    accounts_df.to_sql(\"cleaned_gdsc\", con=engine, if_exists='replace', index=False)\n",
    "    print(\"Data uploaded successfully.\")\n",
    "\n",
    "except Exception as e:\n",
    "    print(\"An error occurred:\", e)"
   ]
  }
 ],
 "metadata": {
  "kernelspec": {
   "display_name": "base",
   "language": "python",
   "name": "python3"
  },
  "language_info": {
   "codemirror_mode": {
    "name": "ipython",
    "version": 3
   },
   "file_extension": ".py",
   "mimetype": "text/x-python",
   "name": "python",
   "nbconvert_exporter": "python",
   "pygments_lexer": "ipython3",
   "version": "3.12.7"
  }
 },
 "nbformat": 4,
 "nbformat_minor": 2
}
